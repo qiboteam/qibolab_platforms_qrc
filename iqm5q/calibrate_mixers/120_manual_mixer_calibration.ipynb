{
 "cells": [
  {
   "cell_type": "markdown",
   "id": "af95efb2",
   "metadata": {},
   "source": [
    "Manual Mixer calibration\n",
    "------------------------\n",
    "\n",
    "The Cluster RF Modules (QCM-RF and QRM-RF) have integrated IQ mixers that handle both upconversion and downconversion of RF signals.\n",
    "These mixers use a local oscillator (LO) with a frequency of $\\omega_{LO}$.\n",
    "During upconversion, they combine signals from the I and Q paths, which have a frequency of $\\omega_{NCO}$, resulting in an output signal at $\\omega_{LO} + \\omega_{NCO}$.\n",
    "However, due to the inherent mathematical imperfections of IQ mixers, the output also includes an unwanted signal at $\\omega_{LO}$ (known as leakage) and another at $\\omega_{LO} - \\omega_{NCO}$ (called the undesired sideband).\n",
    "Cluster baseband modules (QCM and QRM) can be used with external mixers, which have similar imperfections.\n",
    "\n",
    "\n",
    "In this tutorial, we are going to look at ways to suppress the LO leakage and undesired sideband. This process is called mixer calibration.\n",
    "\n",
    "To run this tutorial optimally, you will need:\n",
    "\n",
    "* Spectrum analyzer\n",
    "\n",
    "* SMA-cables\n",
    "\n",
    "* Installation and enabling of ipywidgets:\n",
    "\n",
    "```\n",
    "        pip install ipywidgets\n",
    "        jupyter nbextension enable --py widgetsnbextension\n",
    "```"
   ]
  },
  {
   "cell_type": "markdown",
   "id": "997643fa",
   "metadata": {
    "tags": []
   },
   "source": [
    "Setup\n",
    "-----\n",
    "\n",
    "First, we are going to import the required packages."
   ]
  },
  {
   "cell_type": "code",
   "execution_count": 1,
   "id": "d041383c",
   "metadata": {
    "execution": {
     "iopub.execute_input": "2025-06-13T15:40:08.259175Z",
     "iopub.status.busy": "2025-06-13T15:40:08.258757Z",
     "iopub.status.idle": "2025-06-13T15:40:08.624626Z",
     "shell.execute_reply": "2025-06-13T15:40:08.623883Z"
    },
    "tags": [
     "imports"
    ]
   },
   "outputs": [
    {
     "ename": "ImportError",
     "evalue": "cannot import name 'VisibleDeprecationWarning' from 'numpy' (/home/users/laura.martinez/envs/devenv/lib/python3.10/site-packages/numpy/__init__.py)",
     "output_type": "error",
     "traceback": [
      "\u001b[0;31m---------------------------------------------------------------------------\u001b[0m",
      "\u001b[0;31mImportError\u001b[0m                               Traceback (most recent call last)",
      "Cell \u001b[0;32mIn[1], line 8\u001b[0m\n\u001b[1;32m      6\u001b[0m \u001b[38;5;28;01mimport\u001b[39;00m \u001b[38;5;21;01mipywidgets\u001b[39;00m \u001b[38;5;28;01mas\u001b[39;00m \u001b[38;5;21;01mwidgets\u001b[39;00m\n\u001b[1;32m      7\u001b[0m \u001b[38;5;28;01mfrom\u001b[39;00m \u001b[38;5;21;01mipywidgets\u001b[39;00m \u001b[38;5;28;01mimport\u001b[39;00m interact\n\u001b[0;32m----> 8\u001b[0m \u001b[38;5;28;01mfrom\u001b[39;00m \u001b[38;5;21;01mqcodes\u001b[39;00m\u001b[38;5;21;01m.\u001b[39;00m\u001b[38;5;21;01minstrument\u001b[39;00m \u001b[38;5;28;01mimport\u001b[39;00m find_or_create_instrument\n\u001b[1;32m     10\u001b[0m \u001b[38;5;28;01mfrom\u001b[39;00m \u001b[38;5;21;01mqblox_instruments\u001b[39;00m \u001b[38;5;28;01mimport\u001b[39;00m Cluster, ClusterType\n\u001b[1;32m     12\u001b[0m \u001b[38;5;28;01mif\u001b[39;00m TYPE_CHECKING:\n",
      "File \u001b[0;32m~/envs/devenv/lib/python3.10/site-packages/qcodes/__init__.py:11\u001b[0m\n\u001b[1;32m      9\u001b[0m \u001b[38;5;28;01mimport\u001b[39;00m \u001b[38;5;21;01mqcodes\u001b[39;00m\u001b[38;5;21;01m.\u001b[39;00m\u001b[38;5;21;01m_version\u001b[39;00m\n\u001b[1;32m     10\u001b[0m \u001b[38;5;28;01mimport\u001b[39;00m \u001b[38;5;21;01mqcodes\u001b[39;00m\u001b[38;5;21;01m.\u001b[39;00m\u001b[38;5;21;01mconfiguration\u001b[39;00m \u001b[38;5;28;01mas\u001b[39;00m \u001b[38;5;21;01mqcconfig\u001b[39;00m\n\u001b[0;32m---> 11\u001b[0m \u001b[38;5;28;01mfrom\u001b[39;00m \u001b[38;5;21;01mqcodes\u001b[39;00m\u001b[38;5;21;01m.\u001b[39;00m\u001b[38;5;21;01mlogger\u001b[39;00m\u001b[38;5;21;01m.\u001b[39;00m\u001b[38;5;21;01mlogger\u001b[39;00m \u001b[38;5;28;01mimport\u001b[39;00m conditionally_start_all_logging\n\u001b[1;32m     12\u001b[0m \u001b[38;5;28;01mfrom\u001b[39;00m \u001b[38;5;21;01mqcodes\u001b[39;00m\u001b[38;5;21;01m.\u001b[39;00m\u001b[38;5;21;01mutils\u001b[39;00m\u001b[38;5;21;01m.\u001b[39;00m\u001b[38;5;21;01mspyder_utils\u001b[39;00m \u001b[38;5;28;01mimport\u001b[39;00m add_to_spyder_UMR_excludelist\n\u001b[1;32m     14\u001b[0m __version__ \u001b[38;5;241m=\u001b[39m qcodes\u001b[38;5;241m.\u001b[39m_version\u001b[38;5;241m.\u001b[39m__version__\n",
      "File \u001b[0;32m~/envs/devenv/lib/python3.10/site-packages/qcodes/logger/__init__.py:12\u001b[0m\n\u001b[1;32m      1\u001b[0m \u001b[38;5;124;03m\"\"\"\u001b[39;00m\n\u001b[1;32m      2\u001b[0m \u001b[38;5;124;03mThe :mod:`qcodes.logger` module provides functionality to enable\u001b[39;00m\n\u001b[1;32m      3\u001b[0m \u001b[38;5;124;03mlogging of errors and debug information from QCoDeS using the default python\u001b[39;00m\n\u001b[0;32m   (...)\u001b[0m\n\u001b[1;32m      9\u001b[0m \n\u001b[1;32m     10\u001b[0m \u001b[38;5;124;03m\"\"\"\u001b[39;00m\n\u001b[0;32m---> 12\u001b[0m \u001b[38;5;28;01mfrom\u001b[39;00m \u001b[38;5;21;01m.\u001b[39;00m\u001b[38;5;21;01minstrument_logger\u001b[39;00m \u001b[38;5;28;01mimport\u001b[39;00m filter_instrument, get_instrument_logger\n\u001b[1;32m     13\u001b[0m \u001b[38;5;28;01mfrom\u001b[39;00m \u001b[38;5;21;01m.\u001b[39;00m\u001b[38;5;21;01mlog_analysis\u001b[39;00m \u001b[38;5;28;01mimport\u001b[39;00m (\n\u001b[1;32m     14\u001b[0m     capture_dataframe,\n\u001b[1;32m     15\u001b[0m     log_to_dataframe,\n\u001b[1;32m     16\u001b[0m     logfile_to_dataframe,\n\u001b[1;32m     17\u001b[0m     time_difference,\n\u001b[1;32m     18\u001b[0m )\n\u001b[1;32m     19\u001b[0m \u001b[38;5;28;01mfrom\u001b[39;00m \u001b[38;5;21;01m.\u001b[39;00m\u001b[38;5;21;01mlogger\u001b[39;00m \u001b[38;5;28;01mimport\u001b[39;00m (\n\u001b[1;32m     20\u001b[0m     LogCapture,\n\u001b[1;32m     21\u001b[0m     console_level,\n\u001b[0;32m   (...)\u001b[0m\n\u001b[1;32m     31\u001b[0m     start_logger,\n\u001b[1;32m     32\u001b[0m )\n",
      "File \u001b[0;32m~/envs/devenv/lib/python3.10/site-packages/qcodes/logger/instrument_logger.py:22\u001b[0m\n\u001b[1;32m     10\u001b[0m \u001b[38;5;28;01mfrom\u001b[39;00m \u001b[38;5;21;01mcontextlib\u001b[39;00m \u001b[38;5;28;01mimport\u001b[39;00m contextmanager\n\u001b[1;32m     11\u001b[0m \u001b[38;5;28;01mfrom\u001b[39;00m \u001b[38;5;21;01mtyping\u001b[39;00m \u001b[38;5;28;01mimport\u001b[39;00m (\n\u001b[1;32m     12\u001b[0m     TYPE_CHECKING,\n\u001b[1;32m     13\u001b[0m     Any,\n\u001b[0;32m   (...)\u001b[0m\n\u001b[1;32m     19\u001b[0m     Union,\n\u001b[1;32m     20\u001b[0m )\n\u001b[0;32m---> 22\u001b[0m \u001b[38;5;28;01mfrom\u001b[39;00m \u001b[38;5;21;01m.\u001b[39;00m\u001b[38;5;21;01mlogger\u001b[39;00m \u001b[38;5;28;01mimport\u001b[39;00m LevelType, get_console_handler, handler_level\n\u001b[1;32m     24\u001b[0m \u001b[38;5;28;01mif\u001b[39;00m TYPE_CHECKING:\n\u001b[1;32m     25\u001b[0m     \u001b[38;5;28;01mfrom\u001b[39;00m \u001b[38;5;21;01mqcodes\u001b[39;00m\u001b[38;5;21;01m.\u001b[39;00m\u001b[38;5;21;01minstrument\u001b[39;00m \u001b[38;5;28;01mimport\u001b[39;00m InstrumentBase\n",
      "File \u001b[0;32m~/envs/devenv/lib/python3.10/site-packages/qcodes/logger/logger.py:29\u001b[0m\n\u001b[1;32m     26\u001b[0m     \u001b[38;5;28;01mfrom\u001b[39;00m \u001b[38;5;21;01mopencensus\u001b[39;00m\u001b[38;5;21;01m.\u001b[39;00m\u001b[38;5;21;01mext\u001b[39;00m\u001b[38;5;21;01m.\u001b[39;00m\u001b[38;5;21;01mazure\u001b[39;00m\u001b[38;5;21;01m.\u001b[39;00m\u001b[38;5;21;01mlog_exporter\u001b[39;00m \u001b[38;5;28;01mimport\u001b[39;00m AzureLogHandler\n\u001b[1;32m     28\u001b[0m \u001b[38;5;28;01mimport\u001b[39;00m \u001b[38;5;21;01mqcodes\u001b[39;00m \u001b[38;5;28;01mas\u001b[39;00m \u001b[38;5;21;01mqc\u001b[39;00m\n\u001b[0;32m---> 29\u001b[0m \u001b[38;5;28;01mfrom\u001b[39;00m \u001b[38;5;21;01mqcodes\u001b[39;00m\u001b[38;5;21;01m.\u001b[39;00m\u001b[38;5;21;01mutils\u001b[39;00m \u001b[38;5;28;01mimport\u001b[39;00m (\n\u001b[1;32m     30\u001b[0m     get_all_installed_package_versions,\n\u001b[1;32m     31\u001b[0m     get_qcodes_user_path,\n\u001b[1;32m     32\u001b[0m     is_qcodes_installed_editably,\n\u001b[1;32m     33\u001b[0m )\n\u001b[1;32m     35\u001b[0m log: logging\u001b[38;5;241m.\u001b[39mLogger \u001b[38;5;241m=\u001b[39m logging\u001b[38;5;241m.\u001b[39mgetLogger(\u001b[38;5;18m__name__\u001b[39m)\n\u001b[1;32m     37\u001b[0m LevelType \u001b[38;5;241m=\u001b[39m Union[\u001b[38;5;28mint\u001b[39m, \u001b[38;5;28mstr\u001b[39m]\n",
      "File \u001b[0;32m~/envs/devenv/lib/python3.10/site-packages/qcodes/utils/__init__.py:20\u001b[0m\n\u001b[1;32m     14\u001b[0m \u001b[38;5;28;01mfrom\u001b[39;00m \u001b[38;5;21;01m.\u001b[39;00m\u001b[38;5;21;01minstallation_info\u001b[39;00m \u001b[38;5;28;01mimport\u001b[39;00m (\n\u001b[1;32m     15\u001b[0m     convert_legacy_version_to_supported_version,\n\u001b[1;32m     16\u001b[0m     get_all_installed_package_versions,\n\u001b[1;32m     17\u001b[0m     is_qcodes_installed_editably,\n\u001b[1;32m     18\u001b[0m )\n\u001b[1;32m     19\u001b[0m \u001b[38;5;28;01mfrom\u001b[39;00m \u001b[38;5;21;01m.\u001b[39;00m\u001b[38;5;21;01mjson_utils\u001b[39;00m \u001b[38;5;28;01mimport\u001b[39;00m NumpyJSONEncoder\n\u001b[0;32m---> 20\u001b[0m \u001b[38;5;28;01mfrom\u001b[39;00m \u001b[38;5;21;01m.\u001b[39;00m\u001b[38;5;21;01mnumpy_utils\u001b[39;00m \u001b[38;5;28;01mimport\u001b[39;00m list_of_data_to_maybe_ragged_nd_array\n\u001b[1;32m     21\u001b[0m \u001b[38;5;28;01mfrom\u001b[39;00m \u001b[38;5;21;01m.\u001b[39;00m\u001b[38;5;21;01mpartial_utils\u001b[39;00m \u001b[38;5;28;01mimport\u001b[39;00m partial_with_docstring\n\u001b[1;32m     22\u001b[0m \u001b[38;5;28;01mfrom\u001b[39;00m \u001b[38;5;21;01m.\u001b[39;00m\u001b[38;5;21;01mpath_helpers\u001b[39;00m \u001b[38;5;28;01mimport\u001b[39;00m get_qcodes_path, get_qcodes_user_path\n",
      "File \u001b[0;32m~/envs/devenv/lib/python3.10/site-packages/qcodes/utils/numpy_utils.py:8\u001b[0m\n\u001b[1;32m      5\u001b[0m \u001b[38;5;28;01mfrom\u001b[39;00m \u001b[38;5;21;01mtyping\u001b[39;00m \u001b[38;5;28;01mimport\u001b[39;00m Any\n\u001b[1;32m      7\u001b[0m \u001b[38;5;28;01mimport\u001b[39;00m \u001b[38;5;21;01mnumpy\u001b[39;00m \u001b[38;5;28;01mas\u001b[39;00m \u001b[38;5;21;01mnp\u001b[39;00m\n\u001b[0;32m----> 8\u001b[0m \u001b[38;5;28;01mfrom\u001b[39;00m \u001b[38;5;21;01mnumpy\u001b[39;00m \u001b[38;5;28;01mimport\u001b[39;00m VisibleDeprecationWarning\n\u001b[1;32m     11\u001b[0m \u001b[38;5;28;01mdef\u001b[39;00m \u001b[38;5;21mlist_of_data_to_maybe_ragged_nd_array\u001b[39m(\n\u001b[1;32m     12\u001b[0m     column_data: Sequence[Any],\n\u001b[1;32m     13\u001b[0m     dtype: \u001b[38;5;28mtype\u001b[39m \u001b[38;5;241m|\u001b[39m \u001b[38;5;28;01mNone\u001b[39;00m \u001b[38;5;241m=\u001b[39m \u001b[38;5;28;01mNone\u001b[39;00m,\n\u001b[1;32m     14\u001b[0m ) \u001b[38;5;241m-\u001b[39m\u001b[38;5;241m>\u001b[39m np\u001b[38;5;241m.\u001b[39mndarray:\n\u001b[1;32m     15\u001b[0m \u001b[38;5;250m    \u001b[39m\u001b[38;5;124;03m\"\"\"\u001b[39;00m\n\u001b[1;32m     16\u001b[0m \u001b[38;5;124;03m    Convert a (nested) Sequence of data to numpy arrays. Handle that\u001b[39;00m\n\u001b[1;32m     17\u001b[0m \u001b[38;5;124;03m    the elements of the sequence may not have the same length in which\u001b[39;00m\n\u001b[1;32m     18\u001b[0m \u001b[38;5;124;03m    case the returned array will be of dtype object.\u001b[39;00m\n\u001b[1;32m     19\u001b[0m \n\u001b[1;32m     20\u001b[0m \u001b[38;5;124;03m    \"\"\"\u001b[39;00m\n",
      "\u001b[0;31mImportError\u001b[0m: cannot import name 'VisibleDeprecationWarning' from 'numpy' (/home/users/laura.martinez/envs/devenv/lib/python3.10/site-packages/numpy/__init__.py)"
     ]
    }
   ],
   "source": [
    "from __future__ import annotations\n",
    "\n",
    "import json\n",
    "from typing import TYPE_CHECKING, Callable\n",
    "\n",
    "import ipywidgets as widgets\n",
    "from ipywidgets import interact\n",
    "from qcodes.instrument import find_or_create_instrument\n",
    "\n",
    "from qblox_instruments import Cluster, ClusterType\n",
    "\n",
    "if TYPE_CHECKING:\n",
    "    from qblox_instruments.qcodes_drivers.module import Module"
   ]
  },
  {
   "cell_type": "markdown",
   "id": "76d4daeb",
   "metadata": {},
   "source": [
    "### Scan For Clusters\n",
    "\n",
    "We scan for the available devices connected via ethernet using the Plug & Play functionality of the Qblox Instruments package (see [Plug & Play](https://docs.qblox.com/en/main/api_reference/tools.html#api-pnp) for more info)."
   ]
  },
  {
   "cell_type": "markdown",
   "id": "31caf2cf",
   "metadata": {},
   "source": [
    "`!qblox-pnp list`"
   ]
  },
  {
   "cell_type": "code",
   "execution_count": null,
   "id": "b82917ae",
   "metadata": {
    "execution": {
     "iopub.execute_input": "2025-06-13T15:40:08.627206Z",
     "iopub.status.busy": "2025-06-13T15:40:08.626915Z",
     "iopub.status.idle": "2025-06-13T15:40:08.630526Z",
     "shell.execute_reply": "2025-06-13T15:40:08.629764Z"
    }
   },
   "outputs": [],
   "source": [
    "cluster_ip = \"10.10.200.42\"\n",
    "cluster_name = \"cluster0\""
   ]
  },
  {
   "cell_type": "markdown",
   "id": "519af799",
   "metadata": {},
   "source": [
    "### Connect to Cluster\n",
    "\n",
    "We now make a connection with the Cluster."
   ]
  },
  {
   "cell_type": "code",
   "execution_count": null,
   "id": "51c3bfc0",
   "metadata": {
    "execution": {
     "iopub.execute_input": "2025-06-13T15:40:08.633128Z",
     "iopub.status.busy": "2025-06-13T15:40:08.632972Z",
     "iopub.status.idle": "2025-06-13T15:40:09.542056Z",
     "shell.execute_reply": "2025-06-13T15:40:09.540663Z"
    },
    "lines_to_next_cell": 2
   },
   "outputs": [],
   "source": [
    "cluster = find_or_create_instrument(\n",
    "    Cluster,\n",
    "    recreate=True,\n",
    "    name=cluster_name,\n",
    "    identifier=cluster_ip,\n",
    "    dummy_cfg=(\n",
    "        {\n",
    "            2: ClusterType.CLUSTER_QCM,\n",
    "            4: ClusterType.CLUSTER_QRM,\n",
    "            6: ClusterType.CLUSTER_QCM_RF,\n",
    "            8: ClusterType.CLUSTER_QRM_RF,\n",
    "            10: ClusterType.CLUSTER_QTM,\n",
    "        }\n",
    "        if cluster_ip is None\n",
    "        else None\n",
    "    ),\n",
    ")"
   ]
  },
  {
   "cell_type": "markdown",
   "id": "e2d2dfbf",
   "metadata": {
    "lines_to_next_cell": 2
   },
   "source": [
    "#### Get connected modules"
   ]
  },
  {
   "cell_type": "code",
   "execution_count": null,
   "id": "bf9a6d90",
   "metadata": {
    "execution": {
     "iopub.execute_input": "2025-06-13T15:40:09.546522Z",
     "iopub.status.busy": "2025-06-13T15:40:09.546123Z",
     "iopub.status.idle": "2025-06-13T15:40:09.551363Z",
     "shell.execute_reply": "2025-06-13T15:40:09.550406Z"
    }
   },
   "outputs": [],
   "source": [
    "def get_connected_modules(cluster: Cluster, filter_fn: Callable | None = None) -> dict[int, Module]:\n",
    "    def checked_filter_fn(mod: ClusterType) -> bool:\n",
    "        if filter_fn is not None:\n",
    "            return filter_fn(mod)\n",
    "        return True\n",
    "\n",
    "    return {\n",
    "        mod.slot_idx: mod for mod in cluster.modules if mod.present() and checked_filter_fn(mod)\n",
    "    }"
   ]
  },
  {
   "cell_type": "code",
   "execution_count": null,
   "id": "6f105b2c",
   "metadata": {
    "execution": {
     "iopub.execute_input": "2025-06-13T15:40:09.555116Z",
     "iopub.status.busy": "2025-06-13T15:40:09.554695Z",
     "iopub.status.idle": "2025-06-13T15:40:09.567318Z",
     "shell.execute_reply": "2025-06-13T15:40:09.566335Z"
    },
    "tags": [
     "module_select"
    ]
   },
   "outputs": [],
   "source": [
    "# QRM baseband modules\n",
    "modules = get_connected_modules(cluster, lambda mod: mod.is_qrm_type and not mod.is_rf_type)"
   ]
  },
  {
   "cell_type": "code",
   "execution_count": null,
   "id": "b280fd07",
   "metadata": {
    "execution": {
     "iopub.execute_input": "2025-06-13T15:40:09.570215Z",
     "iopub.status.busy": "2025-06-13T15:40:09.570037Z",
     "iopub.status.idle": "2025-06-13T15:40:09.573830Z",
     "shell.execute_reply": "2025-06-13T15:40:09.572921Z"
    }
   },
   "outputs": [],
   "source": [
    "# This uses the module of the correct type with the lowest slot index\n",
    "module = list(modules.values())[0]"
   ]
  },
  {
   "cell_type": "markdown",
   "id": "c71600b3",
   "metadata": {},
   "source": [
    "### Reset the Cluster\n",
    "\n",
    "We reset the Cluster to enter a well-defined state. Note that resetting will clear all stored parameters, so resetting between experiments is usually not desirable."
   ]
  },
  {
   "cell_type": "code",
   "execution_count": null,
   "id": "dcc92e91",
   "metadata": {
    "execution": {
     "iopub.execute_input": "2025-06-13T15:40:09.576698Z",
     "iopub.status.busy": "2025-06-13T15:40:09.576546Z",
     "iopub.status.idle": "2025-06-13T15:40:12.341804Z",
     "shell.execute_reply": "2025-06-13T15:40:12.339926Z"
    }
   },
   "outputs": [],
   "source": [
    "cluster.reset()\n",
    "print(cluster.get_system_status())"
   ]
  },
  {
   "cell_type": "markdown",
   "id": "198c4bee",
   "metadata": {},
   "source": [
    "We upload a simple sequence program that keeps playing the DC waveform at 30 percent IF power (waveform amplitude = 0.3). This will be modulated and upconverted within the QRM-RF before outputting."
   ]
  },
  {
   "cell_type": "code",
   "execution_count": null,
   "id": "973e29ce",
   "metadata": {
    "execution": {
     "iopub.execute_input": "2025-06-13T15:40:12.346321Z",
     "iopub.status.busy": "2025-06-13T15:40:12.345891Z",
     "iopub.status.idle": "2025-06-13T15:40:12.359881Z",
     "shell.execute_reply": "2025-06-13T15:40:12.358569Z"
    }
   },
   "outputs": [],
   "source": [
    "# Sequence program.\n",
    "seq_prog = \"\"\"\n",
    "      wait_sync 4\n",
    "\n",
    "loop: play    0,0,1200\n",
    "      jmp     @loop\n",
    "\"\"\"\n",
    "waveforms = {\"dc\": {\"data\": [0.3 for i in range(0, 1200)], \"index\": 0}}\n",
    "\n",
    "# Add sequence to single dictionary and write to JSON file.\n",
    "sequence = {\n",
    "    \"waveforms\": waveforms,\n",
    "    \"weights\": {},\n",
    "    \"acquisitions\": {},\n",
    "    \"program\": seq_prog,\n",
    "}\n",
    "with open(\"sequence.json\", \"w\", encoding=\"utf-8\") as file:\n",
    "    json.dump(sequence, file, indent=4)\n",
    "    file.close()\n",
    "\n",
    "module.sequencer0.sequence(\"sequence.json\")"
   ]
  },
  {
   "cell_type": "markdown",
   "id": "a3c5614c",
   "metadata": {},
   "source": [
    "Let's configure the sequencer to generate an IF frequency of $100$ MHz. To get an output frequency of $5.0$ GHz, we then have to configure the LO to run at $4.9$ GHz."
   ]
  },
  {
   "cell_type": "markdown",
   "id": "bc5b95dd",
   "metadata": {
    "tags": [
     "set_lo"
    ]
   },
   "source": [
    "For baseband modules, use an external LO"
   ]
  },
  {
   "cell_type": "code",
   "execution_count": null,
   "id": "3e024c65",
   "metadata": {
    "execution": {
     "iopub.execute_input": "2025-06-13T15:40:12.364006Z",
     "iopub.status.busy": "2025-06-13T15:40:12.363615Z",
     "iopub.status.idle": "2025-06-13T15:40:12.430313Z",
     "shell.execute_reply": "2025-06-13T15:40:12.428790Z"
    },
    "lines_to_next_cell": 2
   },
   "outputs": [],
   "source": [
    "nco_freq = 100e6\n",
    "module.sequencer0.marker_ovr_en(True)\n",
    "module.sequencer0.marker_ovr_value(3)  # Enables output on QRM-RF\n",
    "\n",
    "# Configure the sequencer\n",
    "module.sequencer0.mod_en_awg(True)\n",
    "module.sequencer0.nco_freq(nco_freq)\n",
    "module.sequencer0.sync_en(True)\n",
    "\n",
    "module.arm_sequencer(0)\n",
    "module.start_sequencer(0)\n",
    "\n",
    "print(module.get_sequencer_status(0))"
   ]
  },
  {
   "cell_type": "markdown",
   "id": "ff595f57",
   "metadata": {},
   "source": [
    "Connect the output of the QRM-RF (O1) to the spectrum analyzer. This is what the output looks like on the spectrum analyzer (center frequency at 4.85 GHz with 600 MHz bandwidth). We see three peaks which correspond to (from the right) 5 GHz (desired signal), 4.9 GHz (LO Leakage) and 4.8 GHz (unwanted sideband)."
   ]
  },
  {
   "cell_type": "markdown",
   "id": "283a5c16",
   "metadata": {},
   "source": [
    "![IQ_Mixer_Calib_before.png](figures/IQ_Mixer_Calib_before.png)"
   ]
  },
  {
   "cell_type": "markdown",
   "id": "e825c37d",
   "metadata": {
    "lines_to_next_cell": 2
   },
   "source": [
    "To get better spurious free dynamic range (SFDR) and better suppression, we can manually calibrate the mixer by:\n",
    "\n",
    "* Using DC offsets we can lower the LO leakage.\n",
    "* By changing the gain ratio and phase of the IF signal we can cancel the unwanted sideband."
   ]
  },
  {
   "cell_type": "markdown",
   "id": "5232147b",
   "metadata": {
    "lines_to_next_cell": 2
   },
   "source": [
    "Create control sliders for these parameters. Each time the value of a parameter is updated, the sequencer is automatically stopped from the embedded firmware for safety reasons and has to be manually restarted. The sliders cover the valid parameter range. If the code below is modified to input invalid values, the Cluster QRM-RF firmware will not program the values.\n",
    "\n",
    "Execute the code below, move the sliders and observe the result on the spectrum analyzer."
   ]
  },
  {
   "cell_type": "code",
   "execution_count": null,
   "id": "86e282a0",
   "metadata": {
    "execution": {
     "iopub.execute_input": "2025-06-13T15:40:12.434722Z",
     "iopub.status.busy": "2025-06-13T15:40:12.434331Z",
     "iopub.status.idle": "2025-06-13T15:40:12.440058Z",
     "shell.execute_reply": "2025-06-13T15:40:12.438791Z"
    },
    "tags": [
     "set_offsets"
    ]
   },
   "outputs": [],
   "source": [
    "def set_offset0(offset0: float) -> None:\n",
    "    module.out0_offset(offset0)"
   ]
  },
  {
   "cell_type": "code",
   "execution_count": null,
   "id": "52a44918",
   "metadata": {
    "execution": {
     "iopub.execute_input": "2025-06-13T15:40:12.444127Z",
     "iopub.status.busy": "2025-06-13T15:40:12.443724Z",
     "iopub.status.idle": "2025-06-13T15:40:12.449371Z",
     "shell.execute_reply": "2025-06-13T15:40:12.448108Z"
    },
    "tags": [
     "set_offsets"
    ]
   },
   "outputs": [],
   "source": [
    "def set_offset1(offset1: float) -> None:\n",
    "    module.out1_offset(offset1)"
   ]
  },
  {
   "cell_type": "code",
   "execution_count": null,
   "id": "dfdd6bfc",
   "metadata": {
    "execution": {
     "iopub.execute_input": "2025-06-13T15:40:12.453204Z",
     "iopub.status.busy": "2025-06-13T15:40:12.452791Z",
     "iopub.status.idle": "2025-06-13T15:40:12.558805Z",
     "shell.execute_reply": "2025-06-13T15:40:12.557548Z"
    }
   },
   "outputs": [],
   "source": [
    "def set_gain_ratio(gain_ratio: float) -> None:\n",
    "    module.sequencer0.mixer_corr_gain_ratio(gain_ratio)\n",
    "    # Start\n",
    "    module.arm_sequencer(0)\n",
    "    module.start_sequencer(0)\n",
    "\n",
    "\n",
    "def set_phase_offset(phase_offset: float) -> None:\n",
    "    module.sequencer0.mixer_corr_phase_offset_degree(phase_offset)\n",
    "    # Start\n",
    "    module.arm_sequencer(0)\n",
    "    module.start_sequencer(0)\n",
    "\n",
    "\n",
    "interact(\n",
    "    set_offset0,\n",
    "    offset0=widgets.FloatSlider(\n",
    "        min=-14.0,\n",
    "        max=14.0,\n",
    "        step=0.001,\n",
    "        start=0.0,\n",
    "        layout=widgets.Layout(width=\"1200px\"),\n",
    "    ),\n",
    ")\n",
    "interact(\n",
    "    set_offset1,\n",
    "    offset1=widgets.FloatSlider(\n",
    "        min=-14.0,\n",
    "        max=14.0,\n",
    "        step=0.001,\n",
    "        start=0.0,\n",
    "        layout=widgets.Layout(width=\"1200px\"),\n",
    "    ),\n",
    ")\n",
    "interact(\n",
    "    set_gain_ratio,\n",
    "    gain_ratio=widgets.FloatSlider(\n",
    "        min=0.9, max=1.1, step=0.001, start=1.0, layout=widgets.Layout(width=\"1200px\")\n",
    "    ),\n",
    ")\n",
    "interact(\n",
    "    set_phase_offset,\n",
    "    phase_offset=widgets.FloatSlider(\n",
    "        min=-45.0,\n",
    "        max=45.0,\n",
    "        step=0.001,\n",
    "        start=0.0,\n",
    "        layout=widgets.Layout(width=\"1200px\"),\n",
    "    ),\n",
    ")"
   ]
  },
  {
   "cell_type": "markdown",
   "id": "e3e5ea22",
   "metadata": {},
   "source": [
    "![IQ_Mixer_Calib_after.png](figures/IQ_Mixer_Calib_after.png)"
   ]
  },
  {
   "cell_type": "markdown",
   "id": "a271afb1",
   "metadata": {},
   "source": [
    "Stop\n",
    "----\n",
    "\n",
    "Finally, let's stop the sequencers if they haven't already and close the instrument connection."
   ]
  },
  {
   "cell_type": "code",
   "execution_count": null,
   "id": "758a69db",
   "metadata": {
    "execution": {
     "iopub.execute_input": "2025-06-13T15:40:12.562730Z",
     "iopub.status.busy": "2025-06-13T15:40:12.562331Z",
     "iopub.status.idle": "2025-06-13T15:40:12.574166Z",
     "shell.execute_reply": "2025-06-13T15:40:12.572844Z"
    },
    "lines_to_next_cell": 2
   },
   "outputs": [],
   "source": [
    "# Stop sequencer.\n",
    "module.stop_sequencer()\n",
    "\n",
    "# Print status of sequencer.\n",
    "print(module.get_sequencer_status(0))"
   ]
  },
  {
   "cell_type": "markdown",
   "id": "3ff9ec68",
   "metadata": {},
   "source": [
    "Stop\n",
    "----\n",
    "\n",
    "Finally, let's stop the sequencers if they haven't already and close the instrument connection. One can also display a detailed snapshot containing the instrument parameters before\n",
    "closing the connection by uncommenting the corresponding lines."
   ]
  },
  {
   "cell_type": "code",
   "execution_count": null,
   "id": "c086c3b3",
   "metadata": {
    "execution": {
     "iopub.execute_input": "2025-06-13T15:40:12.578125Z",
     "iopub.status.busy": "2025-06-13T15:40:12.577702Z",
     "iopub.status.idle": "2025-06-13T15:40:18.678346Z",
     "shell.execute_reply": "2025-06-13T15:40:18.676827Z"
    }
   },
   "outputs": [],
   "source": [
    "# Stop both sequencers.\n",
    "module.stop_sequencer()\n",
    "\n",
    "# Print status of both sequencers (should now say it is stopped).\n",
    "print(module.get_sequencer_status(0))\n",
    "print(module.get_sequencer_status(1))\n",
    "print()\n",
    "\n",
    "# Print an overview of the instrument parameters.\n",
    "print(\"Snapshot:\")\n",
    "module.print_readable_snapshot(update=True)\n",
    "\n",
    "# Reset the cluster\n",
    "cluster.reset()\n",
    "print(cluster.get_system_status())"
   ]
  }
 ],
 "metadata": {
  "files_to_bundle_in_zip_file": [
   "figures/IQ_Mixer_Calib_before.png",
   "figures/IQ_Mixer_Calib_after.png"
  ],
  "jupytext": {
   "cell_metadata_filter": "all",
   "notebook_metadata_filter": "files_to_bundle_in_zip_file,is_demo,execute"
  },
  "kernelspec": {
   "display_name": "devenv",
   "language": "python",
   "name": "python3"
  },
  "language_info": {
   "codemirror_mode": {
    "name": "ipython",
    "version": 3
   },
   "file_extension": ".py",
   "mimetype": "text/x-python",
   "name": "python",
   "nbconvert_exporter": "python",
   "pygments_lexer": "ipython3",
   "version": "3.10.12"
  },
  "widgets": {
   "application/vnd.jupyter.widget-state+json": {
    "state": {
     "0f9c204085304f849941af8b71805158": {
      "model_module": "@jupyter-widgets/base",
      "model_module_version": "2.0.0",
      "model_name": "LayoutModel",
      "state": {
       "_model_module": "@jupyter-widgets/base",
       "_model_module_version": "2.0.0",
       "_model_name": "LayoutModel",
       "_view_count": null,
       "_view_module": "@jupyter-widgets/base",
       "_view_module_version": "2.0.0",
       "_view_name": "LayoutView",
       "align_content": null,
       "align_items": null,
       "align_self": null,
       "border_bottom": null,
       "border_left": null,
       "border_right": null,
       "border_top": null,
       "bottom": null,
       "display": null,
       "flex": null,
       "flex_flow": null,
       "grid_area": null,
       "grid_auto_columns": null,
       "grid_auto_flow": null,
       "grid_auto_rows": null,
       "grid_column": null,
       "grid_gap": null,
       "grid_row": null,
       "grid_template_areas": null,
       "grid_template_columns": null,
       "grid_template_rows": null,
       "height": null,
       "justify_content": null,
       "justify_items": null,
       "left": null,
       "margin": null,
       "max_height": null,
       "max_width": null,
       "min_height": null,
       "min_width": null,
       "object_fit": null,
       "object_position": null,
       "order": null,
       "overflow": null,
       "padding": null,
       "right": null,
       "top": null,
       "visibility": null,
       "width": "1200px"
      }
     },
     "1aa26d0b6fca4e29b51e5d8e50011574": {
      "model_module": "@jupyter-widgets/output",
      "model_module_version": "1.0.0",
      "model_name": "OutputModel",
      "state": {
       "_dom_classes": [],
       "_model_module": "@jupyter-widgets/output",
       "_model_module_version": "1.0.0",
       "_model_name": "OutputModel",
       "_view_count": null,
       "_view_module": "@jupyter-widgets/output",
       "_view_module_version": "1.0.0",
       "_view_name": "OutputView",
       "layout": "IPY_MODEL_cd95167a5eb942ac9a2aedefebbaf047",
       "msg_id": "",
       "outputs": [],
       "tabbable": null,
       "tooltip": null
      }
     },
     "210a4ba0b4634f9e9fee361046f4a8f7": {
      "model_module": "@jupyter-widgets/controls",
      "model_module_version": "2.0.0",
      "model_name": "FloatSliderModel",
      "state": {
       "_dom_classes": [],
       "_model_module": "@jupyter-widgets/controls",
       "_model_module_version": "2.0.0",
       "_model_name": "FloatSliderModel",
       "_view_count": null,
       "_view_module": "@jupyter-widgets/controls",
       "_view_module_version": "2.0.0",
       "_view_name": "FloatSliderView",
       "behavior": "drag-tap",
       "continuous_update": true,
       "description": "offset1",
       "description_allow_html": false,
       "disabled": false,
       "layout": "IPY_MODEL_fd07678671d846d7a599d65f74ec1161",
       "max": 14,
       "min": -14,
       "orientation": "horizontal",
       "readout": true,
       "readout_format": ".2f",
       "step": 0.001,
       "style": "IPY_MODEL_596cc21d87f54c6baf22e504fea4ab29",
       "tabbable": null,
       "tooltip": null,
       "value": 0
      }
     },
     "24a45906c1fe4d50a14ba1b24408de55": {
      "model_module": "@jupyter-widgets/controls",
      "model_module_version": "2.0.0",
      "model_name": "VBoxModel",
      "state": {
       "_dom_classes": [
        "widget-interact"
       ],
       "_model_module": "@jupyter-widgets/controls",
       "_model_module_version": "2.0.0",
       "_model_name": "VBoxModel",
       "_view_count": null,
       "_view_module": "@jupyter-widgets/controls",
       "_view_module_version": "2.0.0",
       "_view_name": "VBoxView",
       "box_style": "",
       "children": [
        "IPY_MODEL_83b4503a00f646f2a252431ecfe674fa",
        "IPY_MODEL_59a66a1f09bb4eb099b89665fc7acce9"
       ],
       "layout": "IPY_MODEL_76b1f49f0dfb43858817eef30bf22765",
       "tabbable": null,
       "tooltip": null
      }
     },
     "2b26369f52054a6185ef5b34bff12cc6": {
      "model_module": "@jupyter-widgets/output",
      "model_module_version": "1.0.0",
      "model_name": "OutputModel",
      "state": {
       "_dom_classes": [],
       "_model_module": "@jupyter-widgets/output",
       "_model_module_version": "1.0.0",
       "_model_name": "OutputModel",
       "_view_count": null,
       "_view_module": "@jupyter-widgets/output",
       "_view_module_version": "1.0.0",
       "_view_name": "OutputView",
       "layout": "IPY_MODEL_d90ccd5af65442c4b15af25f7d12155e",
       "msg_id": "",
       "outputs": [],
       "tabbable": null,
       "tooltip": null
      }
     },
     "2c9328d92e3645a8a9c56d9f3c200a90": {
      "model_module": "@jupyter-widgets/output",
      "model_module_version": "1.0.0",
      "model_name": "OutputModel",
      "state": {
       "_dom_classes": [],
       "_model_module": "@jupyter-widgets/output",
       "_model_module_version": "1.0.0",
       "_model_name": "OutputModel",
       "_view_count": null,
       "_view_module": "@jupyter-widgets/output",
       "_view_module_version": "1.0.0",
       "_view_name": "OutputView",
       "layout": "IPY_MODEL_8b60c51a6580400fb189dea3b1bd3adb",
       "msg_id": "",
       "outputs": [],
       "tabbable": null,
       "tooltip": null
      }
     },
     "2cf7cd92f2a54eedbb2768a4fb6ddd0c": {
      "model_module": "@jupyter-widgets/base",
      "model_module_version": "2.0.0",
      "model_name": "LayoutModel",
      "state": {
       "_model_module": "@jupyter-widgets/base",
       "_model_module_version": "2.0.0",
       "_model_name": "LayoutModel",
       "_view_count": null,
       "_view_module": "@jupyter-widgets/base",
       "_view_module_version": "2.0.0",
       "_view_name": "LayoutView",
       "align_content": null,
       "align_items": null,
       "align_self": null,
       "border_bottom": null,
       "border_left": null,
       "border_right": null,
       "border_top": null,
       "bottom": null,
       "display": null,
       "flex": null,
       "flex_flow": null,
       "grid_area": null,
       "grid_auto_columns": null,
       "grid_auto_flow": null,
       "grid_auto_rows": null,
       "grid_column": null,
       "grid_gap": null,
       "grid_row": null,
       "grid_template_areas": null,
       "grid_template_columns": null,
       "grid_template_rows": null,
       "height": null,
       "justify_content": null,
       "justify_items": null,
       "left": null,
       "margin": null,
       "max_height": null,
       "max_width": null,
       "min_height": null,
       "min_width": null,
       "object_fit": null,
       "object_position": null,
       "order": null,
       "overflow": null,
       "padding": null,
       "right": null,
       "top": null,
       "visibility": null,
       "width": null
      }
     },
     "4a90181dafdf46d2a660ad7e5c03d3c1": {
      "model_module": "@jupyter-widgets/base",
      "model_module_version": "2.0.0",
      "model_name": "LayoutModel",
      "state": {
       "_model_module": "@jupyter-widgets/base",
       "_model_module_version": "2.0.0",
       "_model_name": "LayoutModel",
       "_view_count": null,
       "_view_module": "@jupyter-widgets/base",
       "_view_module_version": "2.0.0",
       "_view_name": "LayoutView",
       "align_content": null,
       "align_items": null,
       "align_self": null,
       "border_bottom": null,
       "border_left": null,
       "border_right": null,
       "border_top": null,
       "bottom": null,
       "display": null,
       "flex": null,
       "flex_flow": null,
       "grid_area": null,
       "grid_auto_columns": null,
       "grid_auto_flow": null,
       "grid_auto_rows": null,
       "grid_column": null,
       "grid_gap": null,
       "grid_row": null,
       "grid_template_areas": null,
       "grid_template_columns": null,
       "grid_template_rows": null,
       "height": null,
       "justify_content": null,
       "justify_items": null,
       "left": null,
       "margin": null,
       "max_height": null,
       "max_width": null,
       "min_height": null,
       "min_width": null,
       "object_fit": null,
       "object_position": null,
       "order": null,
       "overflow": null,
       "padding": null,
       "right": null,
       "top": null,
       "visibility": null,
       "width": "1200px"
      }
     },
     "4ab14034d4a54c8980f1fbe060f1bbae": {
      "model_module": "@jupyter-widgets/base",
      "model_module_version": "2.0.0",
      "model_name": "LayoutModel",
      "state": {
       "_model_module": "@jupyter-widgets/base",
       "_model_module_version": "2.0.0",
       "_model_name": "LayoutModel",
       "_view_count": null,
       "_view_module": "@jupyter-widgets/base",
       "_view_module_version": "2.0.0",
       "_view_name": "LayoutView",
       "align_content": null,
       "align_items": null,
       "align_self": null,
       "border_bottom": null,
       "border_left": null,
       "border_right": null,
       "border_top": null,
       "bottom": null,
       "display": null,
       "flex": null,
       "flex_flow": null,
       "grid_area": null,
       "grid_auto_columns": null,
       "grid_auto_flow": null,
       "grid_auto_rows": null,
       "grid_column": null,
       "grid_gap": null,
       "grid_row": null,
       "grid_template_areas": null,
       "grid_template_columns": null,
       "grid_template_rows": null,
       "height": null,
       "justify_content": null,
       "justify_items": null,
       "left": null,
       "margin": null,
       "max_height": null,
       "max_width": null,
       "min_height": null,
       "min_width": null,
       "object_fit": null,
       "object_position": null,
       "order": null,
       "overflow": null,
       "padding": null,
       "right": null,
       "top": null,
       "visibility": null,
       "width": null
      }
     },
     "52240b5d41b5433cabf79ba01e1e186a": {
      "model_module": "@jupyter-widgets/controls",
      "model_module_version": "2.0.0",
      "model_name": "VBoxModel",
      "state": {
       "_dom_classes": [
        "widget-interact"
       ],
       "_model_module": "@jupyter-widgets/controls",
       "_model_module_version": "2.0.0",
       "_model_name": "VBoxModel",
       "_view_count": null,
       "_view_module": "@jupyter-widgets/controls",
       "_view_module_version": "2.0.0",
       "_view_name": "VBoxView",
       "box_style": "",
       "children": [
        "IPY_MODEL_6a9034ac73894d11834741915daaff21",
        "IPY_MODEL_2b26369f52054a6185ef5b34bff12cc6"
       ],
       "layout": "IPY_MODEL_4ab14034d4a54c8980f1fbe060f1bbae",
       "tabbable": null,
       "tooltip": null
      }
     },
     "596cc21d87f54c6baf22e504fea4ab29": {
      "model_module": "@jupyter-widgets/controls",
      "model_module_version": "2.0.0",
      "model_name": "SliderStyleModel",
      "state": {
       "_model_module": "@jupyter-widgets/controls",
       "_model_module_version": "2.0.0",
       "_model_name": "SliderStyleModel",
       "_view_count": null,
       "_view_module": "@jupyter-widgets/base",
       "_view_module_version": "2.0.0",
       "_view_name": "StyleView",
       "description_width": "",
       "handle_color": null
      }
     },
     "59a66a1f09bb4eb099b89665fc7acce9": {
      "model_module": "@jupyter-widgets/output",
      "model_module_version": "1.0.0",
      "model_name": "OutputModel",
      "state": {
       "_dom_classes": [],
       "_model_module": "@jupyter-widgets/output",
       "_model_module_version": "1.0.0",
       "_model_name": "OutputModel",
       "_view_count": null,
       "_view_module": "@jupyter-widgets/output",
       "_view_module_version": "1.0.0",
       "_view_name": "OutputView",
       "layout": "IPY_MODEL_cb0ab360a2e144f4899995b63b76db58",
       "msg_id": "",
       "outputs": [],
       "tabbable": null,
       "tooltip": null
      }
     },
     "62c6d30d80404107bf6edf09ba52fef2": {
      "model_module": "@jupyter-widgets/controls",
      "model_module_version": "2.0.0",
      "model_name": "SliderStyleModel",
      "state": {
       "_model_module": "@jupyter-widgets/controls",
       "_model_module_version": "2.0.0",
       "_model_name": "SliderStyleModel",
       "_view_count": null,
       "_view_module": "@jupyter-widgets/base",
       "_view_module_version": "2.0.0",
       "_view_name": "StyleView",
       "description_width": "",
       "handle_color": null
      }
     },
     "6a9034ac73894d11834741915daaff21": {
      "model_module": "@jupyter-widgets/controls",
      "model_module_version": "2.0.0",
      "model_name": "FloatSliderModel",
      "state": {
       "_dom_classes": [],
       "_model_module": "@jupyter-widgets/controls",
       "_model_module_version": "2.0.0",
       "_model_name": "FloatSliderModel",
       "_view_count": null,
       "_view_module": "@jupyter-widgets/controls",
       "_view_module_version": "2.0.0",
       "_view_name": "FloatSliderView",
       "behavior": "drag-tap",
       "continuous_update": true,
       "description": "gain_ratio",
       "description_allow_html": false,
       "disabled": false,
       "layout": "IPY_MODEL_4a90181dafdf46d2a660ad7e5c03d3c1",
       "max": 1.1,
       "min": 0.9,
       "orientation": "horizontal",
       "readout": true,
       "readout_format": ".2f",
       "step": 0.001,
       "style": "IPY_MODEL_62c6d30d80404107bf6edf09ba52fef2",
       "tabbable": null,
       "tooltip": null,
       "value": 0.9
      }
     },
     "6dcd8b54b59844148e44e5247b8b8115": {
      "model_module": "@jupyter-widgets/base",
      "model_module_version": "2.0.0",
      "model_name": "LayoutModel",
      "state": {
       "_model_module": "@jupyter-widgets/base",
       "_model_module_version": "2.0.0",
       "_model_name": "LayoutModel",
       "_view_count": null,
       "_view_module": "@jupyter-widgets/base",
       "_view_module_version": "2.0.0",
       "_view_name": "LayoutView",
       "align_content": null,
       "align_items": null,
       "align_self": null,
       "border_bottom": null,
       "border_left": null,
       "border_right": null,
       "border_top": null,
       "bottom": null,
       "display": null,
       "flex": null,
       "flex_flow": null,
       "grid_area": null,
       "grid_auto_columns": null,
       "grid_auto_flow": null,
       "grid_auto_rows": null,
       "grid_column": null,
       "grid_gap": null,
       "grid_row": null,
       "grid_template_areas": null,
       "grid_template_columns": null,
       "grid_template_rows": null,
       "height": null,
       "justify_content": null,
       "justify_items": null,
       "left": null,
       "margin": null,
       "max_height": null,
       "max_width": null,
       "min_height": null,
       "min_width": null,
       "object_fit": null,
       "object_position": null,
       "order": null,
       "overflow": null,
       "padding": null,
       "right": null,
       "top": null,
       "visibility": null,
       "width": null
      }
     },
     "76b1f49f0dfb43858817eef30bf22765": {
      "model_module": "@jupyter-widgets/base",
      "model_module_version": "2.0.0",
      "model_name": "LayoutModel",
      "state": {
       "_model_module": "@jupyter-widgets/base",
       "_model_module_version": "2.0.0",
       "_model_name": "LayoutModel",
       "_view_count": null,
       "_view_module": "@jupyter-widgets/base",
       "_view_module_version": "2.0.0",
       "_view_name": "LayoutView",
       "align_content": null,
       "align_items": null,
       "align_self": null,
       "border_bottom": null,
       "border_left": null,
       "border_right": null,
       "border_top": null,
       "bottom": null,
       "display": null,
       "flex": null,
       "flex_flow": null,
       "grid_area": null,
       "grid_auto_columns": null,
       "grid_auto_flow": null,
       "grid_auto_rows": null,
       "grid_column": null,
       "grid_gap": null,
       "grid_row": null,
       "grid_template_areas": null,
       "grid_template_columns": null,
       "grid_template_rows": null,
       "height": null,
       "justify_content": null,
       "justify_items": null,
       "left": null,
       "margin": null,
       "max_height": null,
       "max_width": null,
       "min_height": null,
       "min_width": null,
       "object_fit": null,
       "object_position": null,
       "order": null,
       "overflow": null,
       "padding": null,
       "right": null,
       "top": null,
       "visibility": null,
       "width": null
      }
     },
     "7c67c19ccf01438ea10bce72df2b64e0": {
      "model_module": "@jupyter-widgets/base",
      "model_module_version": "2.0.0",
      "model_name": "LayoutModel",
      "state": {
       "_model_module": "@jupyter-widgets/base",
       "_model_module_version": "2.0.0",
       "_model_name": "LayoutModel",
       "_view_count": null,
       "_view_module": "@jupyter-widgets/base",
       "_view_module_version": "2.0.0",
       "_view_name": "LayoutView",
       "align_content": null,
       "align_items": null,
       "align_self": null,
       "border_bottom": null,
       "border_left": null,
       "border_right": null,
       "border_top": null,
       "bottom": null,
       "display": null,
       "flex": null,
       "flex_flow": null,
       "grid_area": null,
       "grid_auto_columns": null,
       "grid_auto_flow": null,
       "grid_auto_rows": null,
       "grid_column": null,
       "grid_gap": null,
       "grid_row": null,
       "grid_template_areas": null,
       "grid_template_columns": null,
       "grid_template_rows": null,
       "height": null,
       "justify_content": null,
       "justify_items": null,
       "left": null,
       "margin": null,
       "max_height": null,
       "max_width": null,
       "min_height": null,
       "min_width": null,
       "object_fit": null,
       "object_position": null,
       "order": null,
       "overflow": null,
       "padding": null,
       "right": null,
       "top": null,
       "visibility": null,
       "width": "1200px"
      }
     },
     "80c13a94149344809d63960e3462e570": {
      "model_module": "@jupyter-widgets/controls",
      "model_module_version": "2.0.0",
      "model_name": "SliderStyleModel",
      "state": {
       "_model_module": "@jupyter-widgets/controls",
       "_model_module_version": "2.0.0",
       "_model_name": "SliderStyleModel",
       "_view_count": null,
       "_view_module": "@jupyter-widgets/base",
       "_view_module_version": "2.0.0",
       "_view_name": "StyleView",
       "description_width": "",
       "handle_color": null
      }
     },
     "83b4503a00f646f2a252431ecfe674fa": {
      "model_module": "@jupyter-widgets/controls",
      "model_module_version": "2.0.0",
      "model_name": "FloatSliderModel",
      "state": {
       "_dom_classes": [],
       "_model_module": "@jupyter-widgets/controls",
       "_model_module_version": "2.0.0",
       "_model_name": "FloatSliderModel",
       "_view_count": null,
       "_view_module": "@jupyter-widgets/controls",
       "_view_module_version": "2.0.0",
       "_view_name": "FloatSliderView",
       "behavior": "drag-tap",
       "continuous_update": true,
       "description": "phase_offset",
       "description_allow_html": false,
       "disabled": false,
       "layout": "IPY_MODEL_0f9c204085304f849941af8b71805158",
       "max": 45,
       "min": -45,
       "orientation": "horizontal",
       "readout": true,
       "readout_format": ".2f",
       "step": 0.001,
       "style": "IPY_MODEL_e2cb7107c25540eaaeb7d6f5ff5bfdde",
       "tabbable": null,
       "tooltip": null,
       "value": 0
      }
     },
     "8b60c51a6580400fb189dea3b1bd3adb": {
      "model_module": "@jupyter-widgets/base",
      "model_module_version": "2.0.0",
      "model_name": "LayoutModel",
      "state": {
       "_model_module": "@jupyter-widgets/base",
       "_model_module_version": "2.0.0",
       "_model_name": "LayoutModel",
       "_view_count": null,
       "_view_module": "@jupyter-widgets/base",
       "_view_module_version": "2.0.0",
       "_view_name": "LayoutView",
       "align_content": null,
       "align_items": null,
       "align_self": null,
       "border_bottom": null,
       "border_left": null,
       "border_right": null,
       "border_top": null,
       "bottom": null,
       "display": null,
       "flex": null,
       "flex_flow": null,
       "grid_area": null,
       "grid_auto_columns": null,
       "grid_auto_flow": null,
       "grid_auto_rows": null,
       "grid_column": null,
       "grid_gap": null,
       "grid_row": null,
       "grid_template_areas": null,
       "grid_template_columns": null,
       "grid_template_rows": null,
       "height": null,
       "justify_content": null,
       "justify_items": null,
       "left": null,
       "margin": null,
       "max_height": null,
       "max_width": null,
       "min_height": null,
       "min_width": null,
       "object_fit": null,
       "object_position": null,
       "order": null,
       "overflow": null,
       "padding": null,
       "right": null,
       "top": null,
       "visibility": null,
       "width": null
      }
     },
     "a9339b892b604a3386e7ae2fa30579af": {
      "model_module": "@jupyter-widgets/controls",
      "model_module_version": "2.0.0",
      "model_name": "VBoxModel",
      "state": {
       "_dom_classes": [
        "widget-interact"
       ],
       "_model_module": "@jupyter-widgets/controls",
       "_model_module_version": "2.0.0",
       "_model_name": "VBoxModel",
       "_view_count": null,
       "_view_module": "@jupyter-widgets/controls",
       "_view_module_version": "2.0.0",
       "_view_name": "VBoxView",
       "box_style": "",
       "children": [
        "IPY_MODEL_210a4ba0b4634f9e9fee361046f4a8f7",
        "IPY_MODEL_2c9328d92e3645a8a9c56d9f3c200a90"
       ],
       "layout": "IPY_MODEL_6dcd8b54b59844148e44e5247b8b8115",
       "tabbable": null,
       "tooltip": null
      }
     },
     "c77bc5c67a9544b98cee5800642b23e6": {
      "model_module": "@jupyter-widgets/controls",
      "model_module_version": "2.0.0",
      "model_name": "VBoxModel",
      "state": {
       "_dom_classes": [
        "widget-interact"
       ],
       "_model_module": "@jupyter-widgets/controls",
       "_model_module_version": "2.0.0",
       "_model_name": "VBoxModel",
       "_view_count": null,
       "_view_module": "@jupyter-widgets/controls",
       "_view_module_version": "2.0.0",
       "_view_name": "VBoxView",
       "box_style": "",
       "children": [
        "IPY_MODEL_e78ddb9e6e0248a4a6c93b07fd059f05",
        "IPY_MODEL_1aa26d0b6fca4e29b51e5d8e50011574"
       ],
       "layout": "IPY_MODEL_2cf7cd92f2a54eedbb2768a4fb6ddd0c",
       "tabbable": null,
       "tooltip": null
      }
     },
     "cb0ab360a2e144f4899995b63b76db58": {
      "model_module": "@jupyter-widgets/base",
      "model_module_version": "2.0.0",
      "model_name": "LayoutModel",
      "state": {
       "_model_module": "@jupyter-widgets/base",
       "_model_module_version": "2.0.0",
       "_model_name": "LayoutModel",
       "_view_count": null,
       "_view_module": "@jupyter-widgets/base",
       "_view_module_version": "2.0.0",
       "_view_name": "LayoutView",
       "align_content": null,
       "align_items": null,
       "align_self": null,
       "border_bottom": null,
       "border_left": null,
       "border_right": null,
       "border_top": null,
       "bottom": null,
       "display": null,
       "flex": null,
       "flex_flow": null,
       "grid_area": null,
       "grid_auto_columns": null,
       "grid_auto_flow": null,
       "grid_auto_rows": null,
       "grid_column": null,
       "grid_gap": null,
       "grid_row": null,
       "grid_template_areas": null,
       "grid_template_columns": null,
       "grid_template_rows": null,
       "height": null,
       "justify_content": null,
       "justify_items": null,
       "left": null,
       "margin": null,
       "max_height": null,
       "max_width": null,
       "min_height": null,
       "min_width": null,
       "object_fit": null,
       "object_position": null,
       "order": null,
       "overflow": null,
       "padding": null,
       "right": null,
       "top": null,
       "visibility": null,
       "width": null
      }
     },
     "cd95167a5eb942ac9a2aedefebbaf047": {
      "model_module": "@jupyter-widgets/base",
      "model_module_version": "2.0.0",
      "model_name": "LayoutModel",
      "state": {
       "_model_module": "@jupyter-widgets/base",
       "_model_module_version": "2.0.0",
       "_model_name": "LayoutModel",
       "_view_count": null,
       "_view_module": "@jupyter-widgets/base",
       "_view_module_version": "2.0.0",
       "_view_name": "LayoutView",
       "align_content": null,
       "align_items": null,
       "align_self": null,
       "border_bottom": null,
       "border_left": null,
       "border_right": null,
       "border_top": null,
       "bottom": null,
       "display": null,
       "flex": null,
       "flex_flow": null,
       "grid_area": null,
       "grid_auto_columns": null,
       "grid_auto_flow": null,
       "grid_auto_rows": null,
       "grid_column": null,
       "grid_gap": null,
       "grid_row": null,
       "grid_template_areas": null,
       "grid_template_columns": null,
       "grid_template_rows": null,
       "height": null,
       "justify_content": null,
       "justify_items": null,
       "left": null,
       "margin": null,
       "max_height": null,
       "max_width": null,
       "min_height": null,
       "min_width": null,
       "object_fit": null,
       "object_position": null,
       "order": null,
       "overflow": null,
       "padding": null,
       "right": null,
       "top": null,
       "visibility": null,
       "width": null
      }
     },
     "d90ccd5af65442c4b15af25f7d12155e": {
      "model_module": "@jupyter-widgets/base",
      "model_module_version": "2.0.0",
      "model_name": "LayoutModel",
      "state": {
       "_model_module": "@jupyter-widgets/base",
       "_model_module_version": "2.0.0",
       "_model_name": "LayoutModel",
       "_view_count": null,
       "_view_module": "@jupyter-widgets/base",
       "_view_module_version": "2.0.0",
       "_view_name": "LayoutView",
       "align_content": null,
       "align_items": null,
       "align_self": null,
       "border_bottom": null,
       "border_left": null,
       "border_right": null,
       "border_top": null,
       "bottom": null,
       "display": null,
       "flex": null,
       "flex_flow": null,
       "grid_area": null,
       "grid_auto_columns": null,
       "grid_auto_flow": null,
       "grid_auto_rows": null,
       "grid_column": null,
       "grid_gap": null,
       "grid_row": null,
       "grid_template_areas": null,
       "grid_template_columns": null,
       "grid_template_rows": null,
       "height": null,
       "justify_content": null,
       "justify_items": null,
       "left": null,
       "margin": null,
       "max_height": null,
       "max_width": null,
       "min_height": null,
       "min_width": null,
       "object_fit": null,
       "object_position": null,
       "order": null,
       "overflow": null,
       "padding": null,
       "right": null,
       "top": null,
       "visibility": null,
       "width": null
      }
     },
     "e2cb7107c25540eaaeb7d6f5ff5bfdde": {
      "model_module": "@jupyter-widgets/controls",
      "model_module_version": "2.0.0",
      "model_name": "SliderStyleModel",
      "state": {
       "_model_module": "@jupyter-widgets/controls",
       "_model_module_version": "2.0.0",
       "_model_name": "SliderStyleModel",
       "_view_count": null,
       "_view_module": "@jupyter-widgets/base",
       "_view_module_version": "2.0.0",
       "_view_name": "StyleView",
       "description_width": "",
       "handle_color": null
      }
     },
     "e78ddb9e6e0248a4a6c93b07fd059f05": {
      "model_module": "@jupyter-widgets/controls",
      "model_module_version": "2.0.0",
      "model_name": "FloatSliderModel",
      "state": {
       "_dom_classes": [],
       "_model_module": "@jupyter-widgets/controls",
       "_model_module_version": "2.0.0",
       "_model_name": "FloatSliderModel",
       "_view_count": null,
       "_view_module": "@jupyter-widgets/controls",
       "_view_module_version": "2.0.0",
       "_view_name": "FloatSliderView",
       "behavior": "drag-tap",
       "continuous_update": true,
       "description": "offset0",
       "description_allow_html": false,
       "disabled": false,
       "layout": "IPY_MODEL_7c67c19ccf01438ea10bce72df2b64e0",
       "max": 14,
       "min": -14,
       "orientation": "horizontal",
       "readout": true,
       "readout_format": ".2f",
       "step": 0.001,
       "style": "IPY_MODEL_80c13a94149344809d63960e3462e570",
       "tabbable": null,
       "tooltip": null,
       "value": 0
      }
     },
     "fd07678671d846d7a599d65f74ec1161": {
      "model_module": "@jupyter-widgets/base",
      "model_module_version": "2.0.0",
      "model_name": "LayoutModel",
      "state": {
       "_model_module": "@jupyter-widgets/base",
       "_model_module_version": "2.0.0",
       "_model_name": "LayoutModel",
       "_view_count": null,
       "_view_module": "@jupyter-widgets/base",
       "_view_module_version": "2.0.0",
       "_view_name": "LayoutView",
       "align_content": null,
       "align_items": null,
       "align_self": null,
       "border_bottom": null,
       "border_left": null,
       "border_right": null,
       "border_top": null,
       "bottom": null,
       "display": null,
       "flex": null,
       "flex_flow": null,
       "grid_area": null,
       "grid_auto_columns": null,
       "grid_auto_flow": null,
       "grid_auto_rows": null,
       "grid_column": null,
       "grid_gap": null,
       "grid_row": null,
       "grid_template_areas": null,
       "grid_template_columns": null,
       "grid_template_rows": null,
       "height": null,
       "justify_content": null,
       "justify_items": null,
       "left": null,
       "margin": null,
       "max_height": null,
       "max_width": null,
       "min_height": null,
       "min_width": null,
       "object_fit": null,
       "object_position": null,
       "order": null,
       "overflow": null,
       "padding": null,
       "right": null,
       "top": null,
       "visibility": null,
       "width": "1200px"
      }
     }
    },
    "version_major": 2,
    "version_minor": 0
   }
  }
 },
 "nbformat": 4,
 "nbformat_minor": 5
}
